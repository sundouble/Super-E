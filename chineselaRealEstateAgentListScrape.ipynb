{
  "nbformat": 4,
  "nbformat_minor": 0,
  "metadata": {
    "colab": {
      "name": "Untitled1.ipynb",
      "provenance": [],
      "authorship_tag": "ABX9TyPGIjJEfEOdTMmWQxISkdPB",
      "include_colab_link": true
    },
    "kernelspec": {
      "name": "python3",
      "display_name": "Python 3"
    }
  },
  "cells": [
    {
      "cell_type": "markdown",
      "metadata": {
        "id": "view-in-github",
        "colab_type": "text"
      },
      "source": [
        "<a href=\"https://colab.research.google.com/github/sundouble/Super-E/blob/master/chineselaRealEstateAgentListScrape.ipynb\" target=\"_parent\"><img src=\"https://colab.research.google.com/assets/colab-badge.svg\" alt=\"Open In Colab\"/></a>"
      ]
    },
    {
      "cell_type": "code",
      "metadata": {
        "id": "BuQWeliknqir",
        "colab_type": "code",
        "outputId": "985ecfe1-4775-4d26-98fb-1de5c2c77dd9",
        "colab": {
          "base_uri": "https://localhost:8080/",
          "height": 34
        }
      },
      "source": [
        "# coding=utf-8\n",
        "from bs4 import BeautifulSoup\n",
        "from urllib.request import urlopen\n",
        "import numpy as np\n",
        "import pandas as pd\n",
        "import time\n",
        "from datetime import datetime\n",
        "import re\n",
        "from google.colab import files\n",
        "url=\"https://www.chineseinla.com/company/catid_48/%E5%9C%B0%E4%BA%A7%E7%BB%8F%E7%BA%AA/task_list\"\n",
        "html=urlopen(url)\n",
        "soup = BeautifulSoup(html,\"html.parser\")\n",
        "pages=[str(i) for i in soup.find_all('a') if '/company/catid_48/%E5%9C%B0%E4%BA%A7%E7%BB%8F%E7%BA%AA/task_list/page_' in str(i)]\n",
        "lastpage =re.match(r\".+?page_(\\d+?)\\.html\",pages[-1])\n",
        "lastpage=lastpage.group(1)\n",
        "print(lastpage)\n",
        "No_o=[]\n",
        "Name=[]\n",
        "Contact=[]\n",
        "Add=[]\n",
        "\n",
        "for p in np.arange(1,106):\n",
        "  url=\"https://www.chineseinla.com/company/catid_48/%E5%9C%B0%E4%BA%A7%E7%BB%8F%E7%BA%AA/task_list/page_\"+str(p)\n",
        "  html=urlopen(url)\n",
        "  soup = BeautifulSoup(html, \"html.parser\")\n",
        "  soupp=soup.find_all(lambda tag: tag.name == 'dl' and tag.get('class') == ['regular_company'])\n",
        "  #time.sleep(3)\n",
        "  for i in soupp:\n",
        "      No=i.span.string\n",
        "      Page=p\n",
        "      id=int(No)+(int(Page)-1)*10\n",
        "      No_o.append([id])\n",
        "      Name_a = i.find(\"img\")\n",
        "      Name.append(re.findall(r\"alt=\\\"(.+?)\\\"\\ssrc.+?\",str(Name_a)))\n",
        "      soupppp = i.find(class_='list_phone')\n",
        "      souppp=re.findall(r\"\\<div\\sclass=\\\"list_phone\\\"\\>(.+?)\\</div\\>\",str(soupppp))\n",
        "      Contact.append(souppp)\n",
        "      add = i.find_all(\"a\", {\"title\": '点击查看地图'})\n",
        "      Add.append(re.findall(r\".+?\\>(.+?)\\</a\\>\", str(add)))\n",
        "      #print(int(No)+10*(int(Page)-1))\n",
        "      #print(Name_a)\n",
        "      #print(souppp)\n",
        "      #print(re.findall(r\".+?\\>(.+?)\\</a\\>\", str(add)))\n",
        "\n",
        "#print(No_o)\n",
        "#print(Name)\n",
        "#print(Contact)\n",
        "#print(Add)\n",
        "cdata={\"ID\":No_o, \"Name\":Name,\"Contact\":Contact,\"Address\":Add}\n",
        "df=pd.DataFrame(data=cdata)\n",
        "df.to_csv(\"chineselaRealEstateAgentList.csv\",header=True,index=False)\n"
      ],
      "execution_count": 2,
      "outputs": [
        {
          "output_type": "stream",
          "text": [
            "105\n"
          ],
          "name": "stdout"
        }
      ]
    },
    {
      "cell_type": "code",
      "metadata": {
        "id": "IdhSKjvq2T1q",
        "colab_type": "code",
        "colab": {}
      },
      "source": [
        ""
      ],
      "execution_count": 0,
      "outputs": []
    },
    {
      "cell_type": "code",
      "metadata": {
        "id": "u0m39RmE4DC5",
        "colab_type": "code",
        "colab": {}
      },
      "source": [
        ""
      ],
      "execution_count": 0,
      "outputs": []
    }
  ]
}